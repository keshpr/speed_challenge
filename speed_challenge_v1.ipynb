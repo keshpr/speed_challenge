{
  "nbformat": 4,
  "nbformat_minor": 0,
  "metadata": {
    "colab": {
      "name": "speed_challenge_v1.ipynb",
      "version": "0.3.2",
      "provenance": [],
      "collapsed_sections": []
    },
    "kernelspec": {
      "name": "python3",
      "display_name": "Python 3"
    },
    "accelerator": "GPU"
  },
  "cells": [
    {
      "metadata": {
        "id": "QRDziaCEWou8",
        "colab_type": "code",
        "colab": {}
      },
      "cell_type": "code",
      "source": [
        "import cv2\n",
        "import os\n",
        "import numpy as np\n",
        "from matplotlib import pyplot as plt\n",
        "import gc\n",
        "import random"
      ],
      "execution_count": 0,
      "outputs": []
    },
    {
      "metadata": {
        "id": "xrc6RUcRbfrp",
        "colab_type": "code",
        "outputId": "04b032ba-a907-40b0-dd5f-2bf19afdbe31",
        "colab": {
          "base_uri": "https://localhost:8080/",
          "height": 35
        }
      },
      "cell_type": "code",
      "source": [
        "import h5py\n",
        "from keras.models import Sequential\n",
        "from keras.layers import Dense, Conv2D, Dropout, Flatten\n",
        "from keras.optimizers import Adam\n",
        "from keras.losses import mean_squared_error as MSE\n",
        "from keras.callbacks import ModelCheckpoint, TensorBoard\n",
        "from sklearn.model_selection import train_test_split\n",
        "\n"
      ],
      "execution_count": 0,
      "outputs": [
        {
          "output_type": "stream",
          "text": [
            "Using TensorFlow backend.\n"
          ],
          "name": "stderr"
        }
      ]
    },
    {
      "metadata": {
        "id": "dhxEkJKWe5gu",
        "colab_type": "code",
        "outputId": "df3df3fc-db8d-46b3-e2d8-ff4af748dc96",
        "colab": {
          "base_uri": "https://localhost:8080/",
          "height": 124
        }
      },
      "cell_type": "code",
      "source": [
        "from google.colab import drive\n",
        "drive.mount('/content/drive/')"
      ],
      "execution_count": 0,
      "outputs": [
        {
          "output_type": "stream",
          "text": [
            "Go to this URL in a browser: https://accounts.google.com/o/oauth2/auth?client_id=947318989803-6bn6qk8qdgf4n4g3pfee6491hc0brc4i.apps.googleusercontent.com&redirect_uri=urn%3Aietf%3Awg%3Aoauth%3A2.0%3Aoob&scope=email%20https%3A%2F%2Fwww.googleapis.com%2Fauth%2Fdocs.test%20https%3A%2F%2Fwww.googleapis.com%2Fauth%2Fdrive%20https%3A%2F%2Fwww.googleapis.com%2Fauth%2Fdrive.photos.readonly%20https%3A%2F%2Fwww.googleapis.com%2Fauth%2Fpeopleapi.readonly&response_type=code\n",
            "\n",
            "Enter your authorization code:\n",
            "··········\n",
            "Mounted at /content/drive/\n"
          ],
          "name": "stdout"
        }
      ]
    },
    {
      "metadata": {
        "id": "OnhkAQ1P-6rx",
        "colab_type": "code",
        "colab": {}
      },
      "cell_type": "code",
      "source": [
        "os.chdir(\"/content/drive/My Drive/comma_challenge/\")\n",
        "os.chdir(\"./data\")\n"
      ],
      "execution_count": 0,
      "outputs": []
    },
    {
      "metadata": {
        "id": "ODOsNoMYiNyv",
        "colab_type": "code",
        "outputId": "e1c4f821-0e61-4299-c104-62e936000cda",
        "colab": {
          "base_uri": "https://localhost:8080/",
          "height": 191
        }
      },
      "cell_type": "code",
      "source": [
        "#helper code to check RAM and GPU resources\n",
        "\n",
        "#!ln -sf /opt/bin/nvidia-smi /usr/bin/nvidia-smi\n",
        "#!pip install gputil\n",
        "#!pip install psutil\n",
        "#!pip install humanize\n",
        "import psutil\n",
        "import humanize\n",
        "import os\n",
        "import GPUtil as GPU\n",
        "GPUs = GPU.getGPUs()\n",
        "# XXX: only one GPU on Colab and isn’t guaranteed\n",
        "gpu = GPUs[0]\n",
        "def printm():\n",
        " process = psutil.Process(os.getpid())\n",
        " print(\"Gen RAM Free: \" + humanize.naturalsize( psutil.virtual_memory().available ), \" | Proc size: \" + humanize.naturalsize( process.memory_info().rss))\n",
        " print(\"GPU RAM Free: {0:.0f}MB | Used: {1:.0f}MB | Util {2:3.0f}% | Total {3:.0f}MB\".format(gpu.memoryFree, gpu.memoryUsed, gpu.memoryUtil*100, gpu.memoryTotal))\n",
        "printm()"
      ],
      "execution_count": 0,
      "outputs": [
        {
          "output_type": "stream",
          "text": [
            "Collecting gputil\n",
            "  Downloading https://files.pythonhosted.org/packages/ed/0e/5c61eedde9f6c87713e89d794f01e378cfd9565847d4576fa627d758c554/GPUtil-1.4.0.tar.gz\n",
            "Building wheels for collected packages: gputil\n",
            "  Running setup.py bdist_wheel for gputil ... \u001b[?25l-\b \bdone\n",
            "\u001b[?25h  Stored in directory: /root/.cache/pip/wheels/3d/77/07/80562de4bb0786e5ea186911a2c831fdd0018bda69beab71fd\n",
            "Successfully built gputil\n",
            "Installing collected packages: gputil\n",
            "Successfully installed gputil-1.4.0\n",
            "Gen RAM Free: 12.8 GB  | Proc size: 328.2 MB\n",
            "GPU RAM Free: 11441MB | Used: 0MB | Util   0% | Total 11441MB\n"
          ],
          "name": "stdout"
        }
      ]
    },
    {
      "metadata": {
        "id": "nTfNzaSciqQX",
        "colab_type": "code",
        "outputId": "f61a00de-e640-437b-9189-8e955b0b4379",
        "colab": {
          "base_uri": "https://localhost:8080/",
          "height": 52
        }
      },
      "cell_type": "code",
      "source": [
        "path_to_imgs = \"/content/drive/My Drive/comma_challenge/data/flow_imgs_2_hsv2_resized/\"\n",
        "path_to_test_imgs = \"/content/drive/My Drive/comma_challenge/data/flow_test_imgs/\"\n",
        "path_to_trainY = \"/content/drive/My Drive/comma_challenge/data/train.txt\"\n",
        "file_paths = sorted([os.path.join(path_to_imgs,f) for f in os.listdir(path_to_imgs)])\n",
        "file_paths_test = sorted([os.path.join(path_to_test_imgs,f) for f in os.listdir(path_to_test_imgs)])\n",
        "\n",
        "trainYs = []\n",
        "\n",
        "with open(path_to_trainY, \"r\") as train_file:\n",
        "  trainYs = train_file.read().splitlines()\n",
        "\n",
        "trainYs = [float(line) for line in trainYs]\n",
        "\n",
        "trainYs = np.asarray(trainYs[1:-1])\n",
        "(train_files, test_files, trainY, testY) = train_test_split(file_paths,\n",
        "\ttrainYs, test_size=0.20, random_state=42)\n",
        "\n",
        "print(len(train_files))\n",
        "print(len(test_files))\n"
      ],
      "execution_count": 0,
      "outputs": [
        {
          "output_type": "stream",
          "text": [
            "16318\n",
            "4080\n"
          ],
          "name": "stdout"
        }
      ]
    },
    {
      "metadata": {
        "id": "tFOBzJGCJEvB",
        "colab_type": "code",
        "outputId": "e0e316b0-d9e7-4d1d-f95b-446d7ea9cc0e",
        "colab": {
          "base_uri": "https://localhost:8080/",
          "height": 52
        }
      },
      "cell_type": "code",
      "source": [
        "#adding frames from test images where the car is stopped (540 frames)\n",
        "train_files.extend(file_paths_test[1098:1638])\n",
        "trainY = np.concatenate((trainY, np.zeros([540])))\n",
        "print(len(train_files))\n",
        "print(len(trainY))\n"
      ],
      "execution_count": 0,
      "outputs": [
        {
          "output_type": "stream",
          "text": [
            "16858\n",
            "16858\n"
          ],
          "name": "stdout"
        }
      ]
    },
    {
      "metadata": {
        "id": "UX6slhrJlXOu",
        "colab_type": "code",
        "colab": {}
      },
      "cell_type": "code",
      "source": [
        "trainX = np.zeros([len(train_files), 74,220, 3])\n",
        "testX = np.zeros([len(test_files), 74,220,3])\n"
      ],
      "execution_count": 0,
      "outputs": []
    },
    {
      "metadata": {
        "id": "WgD8jx5tjxMf",
        "colab_type": "code",
        "outputId": "3b02a18c-823a-45fe-a0cf-0e343a2db2c0",
        "colab": {
          "base_uri": "https://localhost:8080/",
          "height": 52
        }
      },
      "cell_type": "code",
      "source": [
        "import os\n",
        "from io import BytesIO\n",
        "import tarfile\n",
        "import tempfile\n",
        "from six.moves import urllib\n",
        "\n",
        "from matplotlib import gridspec\n",
        "from matplotlib import pyplot as plt\n",
        "import numpy as np\n",
        "from PIL import Image\n",
        "\n",
        "import tensorflow as tf"
      ],
      "execution_count": 0,
      "outputs": [
        {
          "output_type": "stream",
          "text": [
            "(16318, 74, 220, 1)\n",
            "(4080, 74, 220, 1)\n"
          ],
          "name": "stdout"
        }
      ]
    },
    {
      "metadata": {
        "id": "Y-PPNhITUpH9",
        "colab_type": "code",
        "colab": {}
      },
      "cell_type": "code",
      "source": [
        "def draw_hsv(flow):\n",
        "    h, w = flow.shape[:2]\n",
        "    fx, fy = flow[:,:,0], flow[:,:,1]\n",
        "    ang = np.arctan2(fy, fx) + np.pi\n",
        "    v = np.sqrt(fx*fx+fy*fy)\n",
        "    hsv = np.zeros((h, w, 3), np.uint8)\n",
        "    hsv[...,0] = ang*(180/np.pi/2)\n",
        "    hsv[...,1] = 255\n",
        "    hsv[...,2] = np.minimum(v*4, 255)\n",
        "    bgr = cv2.cvtColor(hsv, cv2.COLOR_HSV2BGR)\n",
        "    return bgr"
      ],
      "execution_count": 0,
      "outputs": []
    },
    {
      "metadata": {
        "id": "YHDya62LBTso",
        "colab_type": "code",
        "colab": {}
      },
      "cell_type": "code",
      "source": [
        ""
      ],
      "execution_count": 0,
      "outputs": []
    },
    {
      "metadata": {
        "id": "0QSETq47OsSQ",
        "colab_type": "code",
        "colab": {}
      },
      "cell_type": "code",
      "source": [
        "import os\n",
        "import cv2\n",
        "import numpy as np\n",
        "from matplotlib import pyplot as plt\n",
        "\n",
        "#resize parameters\n",
        "newWidth, newHeight = 220, 74\n",
        "\n",
        "#cropping parameters\n",
        "top = 0\n",
        "bottom = 370\n",
        "left = 0\n",
        "right = 640\n",
        "\n",
        "#path to video\n",
        "#used for both train and test videos, currently set to train video\n",
        "path_to_vid = \"/content/drive/My Drive/comma_challenge/data/train.mp4\"\n",
        "\n",
        "#path to file to store optical flow images for every instant\n",
        "#used for both train and test dataset, currently set to train dataset\n",
        "path_to_flow = \"/content/drive/My Drive/comma_challenge/data/flow_images_2_hsv2_resized\"\n",
        "\n",
        "cap = cv2.VideoCapture(path_to_vid)\n",
        "ret, frame1 = cap.read()\n",
        "ret, frame2 = cap.read()\n",
        "\n",
        "prvs = frame1[top:bottom, left:right]\n",
        "prvs = cv2.resize(prvs, (newWidth, newHeight), interpolation=cv2.INTER_AREA)\n",
        "prvs = cv2.cvtColor(prvs,cv2.COLOR_BGR2GRAY)\n",
        "\n",
        "curr = frame2[top:bottom, left:right]\n",
        "curr = cv2.resize(curr, (newWidth, newHeight), interpolation=cv2.INTER_AREA)\n",
        "curr = cv2.cvtColor(curr,cv2.COLOR_BGR2GRAY)\n",
        "\n",
        "i = 2"
      ],
      "execution_count": 0,
      "outputs": []
    },
    {
      "metadata": {
        "id": "jAfn0ClcOyi5",
        "colab_type": "code",
        "colab": {}
      },
      "cell_type": "code",
      "source": [
        "# getting all the frames from the video and calculating optical flow\n",
        "while(1):\n",
        "    ret, frame3 = cap.read()\n",
        "    if(not ret):\n",
        "        break\n",
        "    \n",
        "    next_ = frame3[top:bottom, left:right]\n",
        "    next_ = cv2.resize(next_, (newWidth, newHeight), interpolation=cv2.INTER_AREA)\n",
        "    next_ = cv2.cvtColor(next_,cv2.COLOR_BGR2GRAY)\n",
        "    flow = cv2.calcOpticalFlowFarneback(prvs,next_, None, 0.5, 3, 15, 3, 5, 1.2, 0)\n",
        "    \n",
        "    hsv2 = draw_hsv(flow)\n",
        "    \n",
        "    name = \"\"\n",
        "    if i < 10:\n",
        "        name = \"0000\"\n",
        "    elif i < 100:\n",
        "        name = \"000\"\n",
        "    elif i < 1000:\n",
        "        name = \"00\"\n",
        "    elif i < 10000:\n",
        "        name = \"0\"\n",
        "    else:\n",
        "        name = \"\"\n",
        "    \n",
        "    name += str(i)\n",
        "    cv2.imwrite(os.path.join(path_to_flow, \"hsv_\" + name + \".png\"),hsv2)\n",
        "    \n",
        "    prvs = curr\n",
        "    curr = next_\n",
        "    i += 1\n",
        "cap.release()\n",
        "cv2.destroyAllWindows()"
      ],
      "execution_count": 0,
      "outputs": []
    },
    {
      "metadata": {
        "id": "lsOYfL1Ri1Fx",
        "colab_type": "code",
        "outputId": "6ecd7ab9-5b6e-4959-cbcb-110e6d655869",
        "colab": {
          "base_uri": "https://localhost:8080/",
          "height": 55
        }
      },
      "cell_type": "code",
      "source": [
        ""
      ],
      "execution_count": 0,
      "outputs": [
        {
          "output_type": "execute_result",
          "data": {
            "text/plain": [
              "'\\n#plt.imshow(trainX[1])\\nprint(file_paths[1])\\nimg = cv2.imread(file_paths[1],cv2.IMREAD_COLOR)\\n#plt.imshow(img)\\n#plt.imshow(trainX[1])\\ntrainX[1] = np.asarray(img)\\nimg_as = np.asarray(img)\\nplt.imshow(trainX[1])\\nassert np.array_equal(trainX[1], img_as)\\ntrainX[1]\\n#img_as\\n'"
            ]
          },
          "metadata": {
            "tags": []
          },
          "execution_count": 8
        }
      ]
    },
    {
      "metadata": {
        "id": "4Ol3Zp0UE0yS",
        "colab_type": "code",
        "outputId": "47e2dafc-ffc2-42b4-e685-06ee70c00f7a",
        "colab": {
          "base_uri": "https://localhost:8080/",
          "height": 260
        }
      },
      "cell_type": "code",
      "source": [
        "!ls"
      ],
      "execution_count": 0,
      "outputs": [
        {
          "output_type": "stream",
          "text": [
            "checkpoints\t\t      model_with_dropout.json\n",
            "checkpoints_bothflow\t      model_with_dropout_vert.json\n",
            "flow_imgs_2_hsv2_resized      test1.txt\n",
            "flow_imgs_2_hsv2_resized.tar  test.mp4\n",
            "flow_test_imgs\t\t      test.txt\n",
            "flow_test_imgs.tar\t      test_vert_best.txt\n",
            "horz_flow_imgs\t\t      test_vert.txt\n",
            "horz_flow_imgs.tar\t      train.mp4\n",
            "horz_flow_test_imgs\t      train.txt\n",
            "horz_flow_test_imgs.tar       vert_flow_imgs\n",
            "logs\t\t\t      vert_flow_imgs.tar\n",
            "model_with_dropout_both.h5    vert_flow_test_imgs\n",
            "model_with_dropout_both.json  vert_flow_test_imgs.tar\n",
            "model_with_dropout.h5\n"
          ],
          "name": "stdout"
        }
      ]
    },
    {
      "metadata": {
        "id": "pj6CBRy2rVBn",
        "colab_type": "code",
        "colab": {}
      },
      "cell_type": "code",
      "source": [
        "i = 0\n",
        "for file in train_files:\n",
        "  trainX[i] = cv2.imread(file, cv2.IMREAD_COLOR)\n",
        "  if(i % 100 == 0):\n",
        "    print(i)\n",
        "  i += 1\n",
        "print(i)\n",
        "i = 0\n",
        "for file in test_files:\n",
        "  testX[i] = cv2.imread(file, cv2.IMREAD_COLOR)\n",
        "  if(i % 100 == 0):\n",
        "    print(i)\n",
        "  i += 1\n",
        "print(i)"
      ],
      "execution_count": 0,
      "outputs": []
    },
    {
      "metadata": {
        "id": "dcfhYHMoECfz",
        "colab_type": "code",
        "colab": {}
      },
      "cell_type": "code",
      "source": [
        ""
      ],
      "execution_count": 0,
      "outputs": []
    },
    {
      "metadata": {
        "id": "Qj2rW3gUtvl1",
        "colab_type": "code",
        "colab": {}
      },
      "cell_type": "code",
      "source": [
        "os.chdir(\"/content/drive/My Drive/comma_challenge/\")\n",
        "os.chdir(\"./data\")\n",
        "!mkdir checkpoints_withtest"
      ],
      "execution_count": 0,
      "outputs": []
    },
    {
      "metadata": {
        "id": "WhXiCazFv_pK",
        "colab_type": "code",
        "outputId": "7a9aeced-8787-40dc-adaf-af456e71f5a3",
        "colab": {
          "base_uri": "https://localhost:8080/",
          "height": 35
        }
      },
      "cell_type": "code",
      "source": [
        "# helper code to save large files in Google drive\n",
        "# Which file to send?\n",
        "file_name = \"LARGE_FILE\"\n",
        "\n",
        "from google.colab import auth\n",
        "from googleapiclient.http import MediaFileUpload\n",
        "from googleapiclient.discovery import build\n",
        "\n",
        "auth.authenticate_user()\n",
        "drive_service = build('drive', 'v3')\n",
        "\n",
        "def save_file_to_drive(name, path):\n",
        "  file_metadata = {'name': name, 'mimeType': 'application/octet-stream'}\n",
        "  media = MediaFileUpload(path, mimetype='application/octet-stream', resumable=True)\n",
        "  created = drive_service.files().create(body=file_metadata, media_body=media, fields='id').execute()\n",
        "  \n",
        "  return created\n",
        "\n",
        "save_file_to_drive(file_name, file_name)"
      ],
      "execution_count": 0,
      "outputs": [
        {
          "output_type": "execute_result",
          "data": {
            "text/plain": [
              "{'id': '16L5sB89lIhPeEFGdV4XsDLuFNmWOTbK1'}"
            ]
          },
          "metadata": {
            "tags": []
          },
          "execution_count": 39
        }
      ]
    },
    {
      "metadata": {
        "id": "Ve_y3zPnzHYk",
        "colab_type": "code",
        "colab": {}
      },
      "cell_type": "code",
      "source": [
        "trainX /= 255.0\n",
        "testX /= 255.0\n"
      ],
      "execution_count": 0,
      "outputs": []
    },
    {
      "metadata": {
        "id": "9ZPCD6Yq1347",
        "colab_type": "code",
        "outputId": "51f874af-46e9-4a1f-f0c1-2589dfdbc7f2",
        "colab": {
          "base_uri": "https://localhost:8080/",
          "height": 139
        }
      },
      "cell_type": "code",
      "source": [
        "# output was gotten (i.e, this cell was run) after model was trained and checkpoints were created\n",
        "!ls ./checkpoints_withtest/"
      ],
      "execution_count": 0,
      "outputs": [
        {
          "output_type": "stream",
          "text": [
            "weights-improvement-01-8.68.hdf5  weights-improvement-11-1.16.hdf5\n",
            "weights-improvement-02-5.85.hdf5  weights-improvement-12-0.90.hdf5\n",
            "weights-improvement-03-4.02.hdf5  weights-improvement-13-0.89.hdf5\n",
            "weights-improvement-04-3.31.hdf5  weights-improvement-15-0.86.hdf5\n",
            "weights-improvement-05-3.11.hdf5  weights-improvement-16-0.67.hdf5\n",
            "weights-improvement-06-1.67.hdf5  weights-improvement-20-0.46.hdf5\n",
            "weights-improvement-08-1.29.hdf5\n"
          ],
          "name": "stdout"
        }
      ]
    },
    {
      "metadata": {
        "id": "UL0VJUYaYH_s",
        "colab_type": "code",
        "colab": {}
      },
      "cell_type": "code",
      "source": [
        "#Model hyperparameters\n",
        "\n",
        "NUM_EPOCHS=25\n",
        "opt='adam'\n",
        "los='mse'\n",
        "minibatch_size=32"
      ],
      "execution_count": 0,
      "outputs": []
    },
    {
      "metadata": {
        "id": "OUmBzOQGanwM",
        "colab_type": "code",
        "colab": {}
      },
      "cell_type": "code",
      "source": [
        "#model architecture\n",
        "\n",
        "model = Sequential()\n",
        "model.add(Conv2D(24, (5,5), activation='relu', strides=2, data_format='channels_last', input_shape=(74,220,3)))\n",
        "model.add(Conv2D(36, (5,5), activation='relu', strides=2, data_format='channels_last'))\n",
        "model.add(Dropout(0.5))\n",
        "model.add(Conv2D(48, (5,5), activation='relu', strides=2, data_format='channels_last'))\n",
        "model.add(Dropout(0.5))\n",
        "model.add(Conv2D(64, (3,3), activation='relu', data_format='channels_last'))\n",
        "model.add(Conv2D(64, (3,3), activation='relu', data_format='channels_last'))\n",
        "model.add(Flatten())\n",
        "model.add(Dense(100, activation='relu'))\n",
        "model.add(Dense(50, activation='relu'))\n",
        "model.add(Dense(10, activation='relu'))\n",
        "model.add(Dense(1))\n"
      ],
      "execution_count": 0,
      "outputs": []
    },
    {
      "metadata": {
        "id": "l2kEuzXaOhh6",
        "colab_type": "code",
        "colab": {}
      },
      "cell_type": "code",
      "source": [
        "checkpoint_path = \"/content/drive/My Drive/comma_challenge/data/checkpoints_withtest/weights-improvement-{epoch:02d}-{val_loss:.2f}.hdf5\"\n",
        "model_path = \"/content/drive/My Drive/comma_challenge/data/model_with_dropout_withtest.json\"\n",
        "log_path=\"/content/drive/My Drive/comma_challenge/logs\"\n",
        "os.chdir(\"/content/drive/My Drive/comma_challenge/data/\")"
      ],
      "execution_count": 0,
      "outputs": []
    },
    {
      "metadata": {
        "id": "EP404c2ZZ9Bz",
        "colab_type": "code",
        "colab": {}
      },
      "cell_type": "code",
      "source": [
        ""
      ],
      "execution_count": 0,
      "outputs": []
    },
    {
      "metadata": {
        "id": "sQ5SesSja5f3",
        "colab_type": "code",
        "outputId": "308d7494-ba43-4c10-db40-5b9a7ecd35bd",
        "colab": {
          "base_uri": "https://localhost:8080/",
          "height": 277
        }
      },
      "cell_type": "code",
      "source": [
        "!ls"
      ],
      "execution_count": 0,
      "outputs": [
        {
          "output_type": "stream",
          "text": [
            "checkpoints\t\t      model_with_dropout.json\n",
            "checkpoints_bothflow\t      model_with_dropout_vert.json\n",
            "checkpoints_withtest\t      model_with_dropout_withtest.json\n",
            "flow_imgs_2_hsv2_resized      test1.txt\n",
            "flow_imgs_2_hsv2_resized.tar  test_bothflow_best.txt\n",
            "flow_test_imgs\t\t      test.mp4\n",
            "flow_test_imgs.tar\t      test.txt\n",
            "horz_flow_imgs\t\t      test_vert_best.txt\n",
            "horz_flow_imgs.tar\t      test_vert.txt\n",
            "horz_flow_test_imgs\t      train.mp4\n",
            "horz_flow_test_imgs.tar       train.txt\n",
            "logs\t\t\t      vert_flow_imgs\n",
            "model_with_dropout_both.h5    vert_flow_imgs.tar\n",
            "model_with_dropout_both.json  vert_flow_test_imgs\n",
            "model_with_dropout.h5\t      vert_flow_test_imgs.tar\n"
          ],
          "name": "stdout"
        }
      ]
    },
    {
      "metadata": {
        "id": "4T0pP9FUc2QP",
        "colab_type": "code",
        "colab": {}
      },
      "cell_type": "code",
      "source": [
        ""
      ],
      "execution_count": 0,
      "outputs": []
    },
    {
      "metadata": {
        "id": "qCFSacuMUIeD",
        "colab_type": "code",
        "colab": {}
      },
      "cell_type": "code",
      "source": [
        "adam = Adam(lr=1e-4, beta_1=1, beta_2=0.999, epsilon=1e-08, decay=0.0)\n",
        "model.compile(optimizer=\"adam\", loss=los, metrics=['mse', 'acc'])\n",
        "checkpt = ModelCheckpoint(checkpoint_path, monitor='val_loss', verbose=1, save_best_only=True, mode='min', period=1)\n",
        "tboard = TensorBoard(log_dir=log_path, write_graph=False)\n",
        "callbacks_list = [checkpt]\n"
      ],
      "execution_count": 0,
      "outputs": []
    },
    {
      "metadata": {
        "id": "XoZntmNOHKEt",
        "colab_type": "code",
        "outputId": "62fe8ac0-4099-475a-870a-6f153b8b8da0",
        "colab": {
          "base_uri": "https://localhost:8080/",
          "height": 1805
        }
      },
      "cell_type": "code",
      "source": [
        "model.fit(trainX, trainY, validation_data=(testX, testY), epochs=NUM_EPOCHS, batch_size=minibatch_size, callbacks=callbacks_list)"
      ],
      "execution_count": 0,
      "outputs": [
        {
          "output_type": "stream",
          "text": [
            "Train on 16858 samples, validate on 4080 samples\n",
            "Epoch 1/25\n",
            "16858/16858 [==============================] - 23s 1ms/step - loss: 30.6962 - mean_squared_error: 30.6962 - acc: 0.0054 - val_loss: 8.6842 - val_mean_squared_error: 8.6842 - val_acc: 2.4510e-04\n",
            "\n",
            "Epoch 00001: val_loss improved from inf to 8.68417, saving model to /content/drive/My Drive/comma_challenge/data/checkpoints_withtest/weights-improvement-01-8.68.hdf5\n",
            "Epoch 2/25\n",
            "16858/16858 [==============================] - 18s 1ms/step - loss: 8.4988 - mean_squared_error: 8.4988 - acc: 0.0135 - val_loss: 5.8498 - val_mean_squared_error: 5.8498 - val_acc: 0.0012\n",
            "\n",
            "Epoch 00002: val_loss improved from 8.68417 to 5.84979, saving model to /content/drive/My Drive/comma_challenge/data/checkpoints_withtest/weights-improvement-02-5.85.hdf5\n",
            "Epoch 3/25\n",
            "16858/16858 [==============================] - 18s 1ms/step - loss: 5.7024 - mean_squared_error: 5.7024 - acc: 0.0233 - val_loss: 4.0189 - val_mean_squared_error: 4.0189 - val_acc: 0.0000e+00\n",
            "\n",
            "Epoch 00003: val_loss improved from 5.84979 to 4.01889, saving model to /content/drive/My Drive/comma_challenge/data/checkpoints_withtest/weights-improvement-03-4.02.hdf5\n",
            "Epoch 4/25\n",
            "16858/16858 [==============================] - 18s 1ms/step - loss: 4.0872 - mean_squared_error: 4.0872 - acc: 0.0254 - val_loss: 3.3057 - val_mean_squared_error: 3.3057 - val_acc: 0.0017\n",
            "\n",
            "Epoch 00004: val_loss improved from 4.01889 to 3.30569, saving model to /content/drive/My Drive/comma_challenge/data/checkpoints_withtest/weights-improvement-04-3.31.hdf5\n",
            "Epoch 5/25\n",
            "16858/16858 [==============================] - 18s 1ms/step - loss: 3.2928 - mean_squared_error: 3.2928 - acc: 0.0304 - val_loss: 3.1110 - val_mean_squared_error: 3.1110 - val_acc: 0.0181\n",
            "\n",
            "Epoch 00005: val_loss improved from 3.30569 to 3.11097, saving model to /content/drive/My Drive/comma_challenge/data/checkpoints_withtest/weights-improvement-05-3.11.hdf5\n",
            "Epoch 6/25\n",
            "16858/16858 [==============================] - 18s 1ms/step - loss: 2.6643 - mean_squared_error: 2.6643 - acc: 0.0342 - val_loss: 1.6689 - val_mean_squared_error: 1.6689 - val_acc: 0.0238\n",
            "\n",
            "Epoch 00006: val_loss improved from 3.11097 to 1.66888, saving model to /content/drive/My Drive/comma_challenge/data/checkpoints_withtest/weights-improvement-06-1.67.hdf5\n",
            "Epoch 7/25\n",
            "16858/16858 [==============================] - 18s 1ms/step - loss: 2.1622 - mean_squared_error: 2.1622 - acc: 0.0355 - val_loss: 1.8549 - val_mean_squared_error: 1.8549 - val_acc: 0.0267\n",
            "\n",
            "Epoch 00007: val_loss did not improve from 1.66888\n",
            "Epoch 8/25\n",
            "16858/16858 [==============================] - 18s 1ms/step - loss: 1.9008 - mean_squared_error: 1.9008 - acc: 0.0393 - val_loss: 1.2938 - val_mean_squared_error: 1.2938 - val_acc: 0.0343\n",
            "\n",
            "Epoch 00008: val_loss improved from 1.66888 to 1.29379, saving model to /content/drive/My Drive/comma_challenge/data/checkpoints_withtest/weights-improvement-08-1.29.hdf5\n",
            "Epoch 9/25\n",
            "16858/16858 [==============================] - 18s 1ms/step - loss: 1.6583 - mean_squared_error: 1.6583 - acc: 0.0405 - val_loss: 1.3775 - val_mean_squared_error: 1.3775 - val_acc: 0.0218\n",
            "\n",
            "Epoch 00009: val_loss did not improve from 1.29379\n",
            "Epoch 10/25\n",
            "16858/16858 [==============================] - 18s 1ms/step - loss: 1.7353 - mean_squared_error: 1.7353 - acc: 0.0407 - val_loss: 1.5291 - val_mean_squared_error: 1.5291 - val_acc: 0.0321\n",
            "\n",
            "Epoch 00010: val_loss did not improve from 1.29379\n",
            "Epoch 11/25\n",
            "16858/16858 [==============================] - 18s 1ms/step - loss: 1.3643 - mean_squared_error: 1.3643 - acc: 0.0475 - val_loss: 1.1570 - val_mean_squared_error: 1.1570 - val_acc: 0.0341\n",
            "\n",
            "Epoch 00011: val_loss improved from 1.29379 to 1.15705, saving model to /content/drive/My Drive/comma_challenge/data/checkpoints_withtest/weights-improvement-11-1.16.hdf5\n",
            "Epoch 12/25\n",
            "16858/16858 [==============================] - 18s 1ms/step - loss: 1.3340 - mean_squared_error: 1.3340 - acc: 0.0439 - val_loss: 0.8999 - val_mean_squared_error: 0.8999 - val_acc: 0.0127\n",
            "\n",
            "Epoch 00012: val_loss improved from 1.15705 to 0.89994, saving model to /content/drive/My Drive/comma_challenge/data/checkpoints_withtest/weights-improvement-12-0.90.hdf5\n",
            "Epoch 13/25\n",
            "16858/16858 [==============================] - 18s 1ms/step - loss: 1.1762 - mean_squared_error: 1.1762 - acc: 0.0465 - val_loss: 0.8915 - val_mean_squared_error: 0.8915 - val_acc: 0.0324\n",
            "\n",
            "Epoch 00013: val_loss improved from 0.89994 to 0.89154, saving model to /content/drive/My Drive/comma_challenge/data/checkpoints_withtest/weights-improvement-13-0.89.hdf5\n",
            "Epoch 14/25\n",
            "16858/16858 [==============================] - 18s 1ms/step - loss: 1.0244 - mean_squared_error: 1.0244 - acc: 0.0499 - val_loss: 1.0331 - val_mean_squared_error: 1.0331 - val_acc: 0.0324\n",
            "\n",
            "Epoch 00014: val_loss did not improve from 0.89154\n",
            "Epoch 15/25\n",
            "16858/16858 [==============================] - 18s 1ms/step - loss: 0.9691 - mean_squared_error: 0.9691 - acc: 0.0451 - val_loss: 0.8621 - val_mean_squared_error: 0.8621 - val_acc: 0.0353\n",
            "\n",
            "Epoch 00015: val_loss improved from 0.89154 to 0.86214, saving model to /content/drive/My Drive/comma_challenge/data/checkpoints_withtest/weights-improvement-15-0.86.hdf5\n",
            "Epoch 16/25\n",
            "16858/16858 [==============================] - 18s 1ms/step - loss: 1.0034 - mean_squared_error: 1.0034 - acc: 0.0489 - val_loss: 0.6703 - val_mean_squared_error: 0.6703 - val_acc: 0.0343\n",
            "\n",
            "Epoch 00016: val_loss improved from 0.86214 to 0.67031, saving model to /content/drive/My Drive/comma_challenge/data/checkpoints_withtest/weights-improvement-16-0.67.hdf5\n",
            "Epoch 17/25\n",
            "16858/16858 [==============================] - 18s 1ms/step - loss: 0.8589 - mean_squared_error: 0.8589 - acc: 0.0520 - val_loss: 0.6981 - val_mean_squared_error: 0.6981 - val_acc: 0.0338\n",
            "\n",
            "Epoch 00017: val_loss did not improve from 0.67031\n",
            "Epoch 18/25\n",
            "16858/16858 [==============================] - 18s 1ms/step - loss: 0.7342 - mean_squared_error: 0.7342 - acc: 0.0531 - val_loss: 1.2685 - val_mean_squared_error: 1.2685 - val_acc: 0.0333\n",
            "\n",
            "Epoch 00018: val_loss did not improve from 0.67031\n",
            "Epoch 19/25\n",
            "16858/16858 [==============================] - 18s 1ms/step - loss: 1.1122 - mean_squared_error: 1.1122 - acc: 0.0451 - val_loss: 0.9091 - val_mean_squared_error: 0.9091 - val_acc: 0.0324\n",
            "\n",
            "Epoch 00019: val_loss did not improve from 0.67031\n",
            "Epoch 20/25\n",
            "16858/16858 [==============================] - 18s 1ms/step - loss: 0.6991 - mean_squared_error: 0.6991 - acc: 0.0530 - val_loss: 0.4563 - val_mean_squared_error: 0.4563 - val_acc: 0.0343\n",
            "\n",
            "Epoch 00020: val_loss improved from 0.67031 to 0.45626, saving model to /content/drive/My Drive/comma_challenge/data/checkpoints_withtest/weights-improvement-20-0.46.hdf5\n",
            "Epoch 21/25\n",
            "16858/16858 [==============================] - 18s 1ms/step - loss: 0.5992 - mean_squared_error: 0.5992 - acc: 0.0559 - val_loss: 0.4976 - val_mean_squared_error: 0.4976 - val_acc: 0.0353\n",
            "\n",
            "Epoch 00021: val_loss did not improve from 0.45626\n",
            "Epoch 22/25\n",
            "16858/16858 [==============================] - 18s 1ms/step - loss: 0.5799 - mean_squared_error: 0.5799 - acc: 0.0540 - val_loss: 0.4880 - val_mean_squared_error: 0.4880 - val_acc: 0.0343\n",
            "\n",
            "Epoch 00022: val_loss did not improve from 0.45626\n",
            "Epoch 23/25\n",
            "16858/16858 [==============================] - 18s 1ms/step - loss: 0.5650 - mean_squared_error: 0.5650 - acc: 0.0533 - val_loss: 0.5739 - val_mean_squared_error: 0.5739 - val_acc: 0.0341\n",
            "\n",
            "Epoch 00023: val_loss did not improve from 0.45626\n",
            "Epoch 24/25\n",
            "16858/16858 [==============================] - 18s 1ms/step - loss: 0.7645 - mean_squared_error: 0.7645 - acc: 0.0515 - val_loss: 0.5878 - val_mean_squared_error: 0.5878 - val_acc: 0.0346\n",
            "\n",
            "Epoch 00024: val_loss did not improve from 0.45626\n",
            "Epoch 25/25\n",
            "16858/16858 [==============================] - 18s 1ms/step - loss: 0.5248 - mean_squared_error: 0.5248 - acc: 0.0543 - val_loss: 0.4701 - val_mean_squared_error: 0.4701 - val_acc: 0.0350\n",
            "\n",
            "Epoch 00025: val_loss did not improve from 0.45626\n"
          ],
          "name": "stdout"
        },
        {
          "output_type": "execute_result",
          "data": {
            "text/plain": [
              "<keras.callbacks.History at 0x7f04e865c780>"
            ]
          },
          "metadata": {
            "tags": []
          },
          "execution_count": 20
        }
      ]
    },
    {
      "metadata": {
        "id": "x5RH8e3D3T-D",
        "colab_type": "code",
        "colab": {}
      },
      "cell_type": "code",
      "source": [
        "os.chdir(\"/content/drive/My Drive/comma_challenge/data/\")\n",
        "model_json = model.to_json()\n",
        "with open(model_path, \"w\") as file:\n",
        "  file.write(model_json)"
      ],
      "execution_count": 0,
      "outputs": []
    },
    {
      "metadata": {
        "id": "idUhpgZa31SW",
        "colab_type": "code",
        "colab": {}
      },
      "cell_type": "code",
      "source": [
        ""
      ],
      "execution_count": 0,
      "outputs": []
    },
    {
      "metadata": {
        "id": "S75HLGRJ32NQ",
        "colab_type": "code",
        "colab": {}
      },
      "cell_type": "code",
      "source": [
        "img = testX[10]\n",
        "img = img.reshape(1,img.shape[0], img.shape[1], img.shape[2])\n",
        "pred = model.predict(img)"
      ],
      "execution_count": 0,
      "outputs": []
    },
    {
      "metadata": {
        "id": "K_hoB48v6bl-",
        "colab_type": "code",
        "outputId": "8ff2f042-79de-447a-d1ba-ba4d7e83c8ce",
        "colab": {
          "base_uri": "https://localhost:8080/",
          "height": 35
        }
      },
      "cell_type": "code",
      "source": [
        "pred"
      ],
      "execution_count": 0,
      "outputs": [
        {
          "output_type": "execute_result",
          "data": {
            "text/plain": [
              "array([[14.604296]], dtype=float32)"
            ]
          },
          "metadata": {
            "tags": []
          },
          "execution_count": 24
        }
      ]
    },
    {
      "metadata": {
        "id": "UyUZH2W87xoC",
        "colab_type": "code",
        "outputId": "027ca485-0870-4c0f-b698-b009e45a5616",
        "colab": {
          "base_uri": "https://localhost:8080/",
          "height": 35
        }
      },
      "cell_type": "code",
      "source": [
        "testY[10]"
      ],
      "execution_count": 0,
      "outputs": [
        {
          "output_type": "execute_result",
          "data": {
            "text/plain": [
              "13.95459"
            ]
          },
          "metadata": {
            "tags": []
          },
          "execution_count": 25
        }
      ]
    },
    {
      "metadata": {
        "id": "Mh7Su3g_70Vi",
        "colab_type": "code",
        "outputId": "d7cb2cfb-8fb6-4673-e836-672c1b347ab2",
        "colab": {
          "base_uri": "https://localhost:8080/",
          "height": 260
        }
      },
      "cell_type": "code",
      "source": [
        "!ls"
      ],
      "execution_count": 0,
      "outputs": [
        {
          "output_type": "stream",
          "text": [
            "checkpoints\t\t      model_with_dropout.json\n",
            "checkpoints_bothflow\t      model_with_dropout_vert.json\n",
            "flow_imgs_2_hsv2_resized      test1.txt\n",
            "flow_imgs_2_hsv2_resized.tar  test_bothflow_best.txt\n",
            "flow_test_imgs\t\t      test.mp4\n",
            "flow_test_imgs.tar\t      test.txt\n",
            "horz_flow_imgs\t\t      test_vert_best.txt\n",
            "horz_flow_imgs.tar\t      test_vert.txt\n",
            "horz_flow_test_imgs\t      train.mp4\n",
            "horz_flow_test_imgs.tar       train.txt\n",
            "logs\t\t\t      vert_flow_imgs\n",
            "model_with_dropout_both.h5    vert_flow_imgs.tar\n",
            "model_with_dropout_both.json  vert_flow_test_imgs\n",
            "model_with_dropout.h5\t      vert_flow_test_imgs.tar\n"
          ],
          "name": "stdout"
        }
      ]
    },
    {
      "metadata": {
        "id": "uCdLxX2tAdlX",
        "colab_type": "code",
        "colab": {}
      },
      "cell_type": "code",
      "source": [
        ""
      ],
      "execution_count": 0,
      "outputs": []
    },
    {
      "metadata": {
        "id": "wE0o_n_uAh6A",
        "colab_type": "code",
        "outputId": "f07d55fc-ea73-41ad-d17f-b9703b19cd7b",
        "colab": {
          "base_uri": "https://localhost:8080/",
          "height": 35
        }
      },
      "cell_type": "code",
      "source": [
        "!ls \"./flow_test_imgs\" | wc -l"
      ],
      "execution_count": 0,
      "outputs": [
        {
          "output_type": "stream",
          "text": [
            "10796\n"
          ],
          "name": "stdout"
        }
      ]
    },
    {
      "metadata": {
        "id": "OQKGZevIBfnw",
        "colab_type": "code",
        "colab": {}
      },
      "cell_type": "code",
      "source": [
        "file_paths_test = sorted([os.path.join(path_to_test_imgs,f) for f in os.listdir(path_to_test_imgs)])\n",
        "test_paths = file_paths_test\n"
      ],
      "execution_count": 0,
      "outputs": []
    },
    {
      "metadata": {
        "id": "HWr7RFTULH8P",
        "colab_type": "code",
        "outputId": "62b5fbb4-4404-489a-fe09-a8e15d8ab9c4",
        "colab": {
          "base_uri": "https://localhost:8080/",
          "height": 35
        }
      },
      "cell_type": "code",
      "source": [
        "from keras.models import model_from_json\n",
        "\n",
        "os.chdir(\"/content/drive/My Drive/comma_challenge/data\")\n",
        "json_file = open('model_with_dropout_withtest.json', 'r')\n",
        "loaded_model_json = json_file.read()\n",
        "json_file.close()\n",
        "loaded_model = model_from_json(loaded_model_json)\n",
        "# load weights into new model\n",
        "loaded_model.load_weights(\"./checkpoints_withtest/weights-improvement-20-0.46.hdf5\")\n",
        "print(\"Loaded model from disk\")\n",
        "\n",
        "loaded_model.compile(loss='mse', optimizer='adam')"
      ],
      "execution_count": 0,
      "outputs": [
        {
          "output_type": "stream",
          "text": [
            "Loaded model from disk\n"
          ],
          "name": "stdout"
        }
      ]
    },
    {
      "metadata": {
        "id": "NiJhSXp6kLZ5",
        "colab_type": "code",
        "colab": {}
      },
      "cell_type": "code",
      "source": [
        "#final test file. Changed the name to test.txt manually later\n",
        "with open(\"test_withtest_best.txt\", 'w') as f:\n",
        "  for file in test_paths:\n",
        "    img = cv2.imread(file, cv2.IMREAD_COLOR) / 255.0\n",
        "    img = np.reshape(img, [1, img.shape[0], img.shape[1], img.shape[2]])\n",
        "    pred = max(loaded_model.predict(img)[0,0], 0.0) \n",
        "    pred_str = str(pred)\n",
        "    f.write(pred_str + '\\n')"
      ],
      "execution_count": 0,
      "outputs": []
    },
    {
      "metadata": {
        "id": "ngPGPKeicwO4",
        "colab_type": "code",
        "colab": {}
      },
      "cell_type": "code",
      "source": [
        ""
      ],
      "execution_count": 0,
      "outputs": []
    }
  ]
}