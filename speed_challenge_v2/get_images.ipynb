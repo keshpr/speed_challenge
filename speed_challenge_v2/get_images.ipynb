{
  "nbformat": 4,
  "nbformat_minor": 0,
  "metadata": {
    "colab": {
      "name": "get_images.ipynb",
      "version": "0.3.2",
      "provenance": [],
      "collapsed_sections": []
    },
    "kernelspec": {
      "name": "python3",
      "display_name": "Python 3"
    },
    "accelerator": "GPU"
  },
  "cells": [
    {
      "metadata": {
        "id": "fgS7Sc4GYjoT",
        "colab_type": "code",
        "colab": {}
      },
      "cell_type": "code",
      "source": [
        "import os\n",
        "from io import BytesIO\n",
        "import tarfile\n",
        "import tempfile\n",
        "from six.moves import urllib\n",
        "\n",
        "from matplotlib import gridspec\n",
        "from matplotlib import pyplot as plt\n",
        "import numpy as np\n",
        "from PIL import Image\n",
        "\n",
        "import tensorflow as tf"
      ],
      "execution_count": 0,
      "outputs": []
    },
    {
      "metadata": {
        "id": "YfNBVeVjYrB9",
        "colab_type": "code",
        "colab": {}
      },
      "cell_type": "code",
      "source": [
        "class DeepLabModel(object):\n",
        "  \"\"\"Class to load deeplab model and run inference.\"\"\"\n",
        "\n",
        "  INPUT_TENSOR_NAME = 'ImageTensor:0'\n",
        "  OUTPUT_TENSOR_NAME = 'SemanticPredictions:0'\n",
        "  INPUT_SIZE = 513\n",
        "  FROZEN_GRAPH_NAME = 'frozen_inference_graph'\n",
        "\n",
        "  def __init__(self, tarball_path):\n",
        "    \"\"\"Creates and loads pretrained deeplab model.\"\"\"\n",
        "    self.graph = tf.Graph()\n",
        "\n",
        "    graph_def = None\n",
        "    # Extract frozen graph from tar archive.\n",
        "    tar_file = tarfile.open(tarball_path)\n",
        "    for tar_info in tar_file.getmembers():\n",
        "      if self.FROZEN_GRAPH_NAME in os.path.basename(tar_info.name):\n",
        "        file_handle = tar_file.extractfile(tar_info)\n",
        "        graph_def = tf.GraphDef.FromString(file_handle.read())\n",
        "        break\n",
        "\n",
        "    tar_file.close()\n",
        "\n",
        "    if graph_def is None:\n",
        "      raise RuntimeError('Cannot find inference graph in tar archive.')\n",
        "\n",
        "    with self.graph.as_default():\n",
        "      tf.import_graph_def(graph_def, name='')\n",
        "\n",
        "    self.sess = tf.Session(graph=self.graph)\n",
        "\n",
        "  def run(self, image):\n",
        "    \"\"\"Runs inference on a single image.\n",
        "\n",
        "    Args:\n",
        "      image: A PIL.Image object, raw input image.\n",
        "\n",
        "    Returns:\n",
        "      resized_image: RGB image resized from original input image.\n",
        "      seg_map: Segmentation map of `resized_image`.\n",
        "    \"\"\"\n",
        "    #print(image)\n",
        "    width, height = image.size\n",
        "    resize_ratio = 1.0 * self.INPUT_SIZE / max(width, height)\n",
        "    target_size = (int(resize_ratio * width), int(resize_ratio * height))\n",
        "    resized_image = image.convert('RGB').resize(target_size, Image.ANTIALIAS)\n",
        "    batch_seg_map = self.sess.run(\n",
        "        self.OUTPUT_TENSOR_NAME,\n",
        "        feed_dict={self.INPUT_TENSOR_NAME: [np.asarray(resized_image)]})\n",
        "    seg_map = batch_seg_map[0]\n",
        "    return resized_image, seg_map\n",
        "\n",
        "  \n",
        "\n",
        "def create_pascal_label_colormap():\n",
        "  \"\"\"Creates a label colormap used in PASCAL VOC segmentation benchmark.\n",
        "\n",
        "  Returns:\n",
        "    A Colormap for visualizing segmentation results.\n",
        "  \"\"\"\n",
        "  colormap = np.zeros((256, 3), dtype=int)\n",
        "  ind = np.arange(256, dtype=int)\n",
        "\n",
        "  for shift in reversed(range(8)):\n",
        "    for channel in range(3):\n",
        "      colormap[:, channel] |= ((ind >> channel) & 1) << shift\n",
        "    ind >>= 3\n",
        "\n",
        "  return colormap\n",
        "\n",
        "#changed mapping such that cars and buses are mapped to a pixel with color\n",
        "#values [0,0,0]. The rest of the colormap is filled with 1s.\n",
        "def create_pascal_label_colormap_1():\n",
        "  \"\"\"Creates a label colormap used in PASCAL VOC segmentation benchmark.\n",
        "\n",
        "  Returns:\n",
        "    A Colormap for visualizing segmentation results.\n",
        "  \"\"\"\n",
        "  colormap = np.ones((256, 3), dtype=int)\n",
        "  colormap[7,:] = 0 \n",
        "  colormap[6,:] = 0\n",
        "  return colormap\n",
        "\n",
        "\n",
        "def label_to_color_image(label):\n",
        "  \"\"\"Adds color defined by the dataset colormap to the label.\n",
        "\n",
        "  Args:\n",
        "    label: A 2D array with integer type, storing the segmentation label.\n",
        "\n",
        "  Returns:\n",
        "    result: A 2D array with floating type. The element of the array\n",
        "      is the color indexed by the corresponding element in the input label\n",
        "      to the PASCAL color map.\n",
        "\n",
        "  Raises:\n",
        "    ValueError: If label is not of rank 2 or its value is larger than color\n",
        "      map maximum entry.\n",
        "  \"\"\"\n",
        "  if label.ndim != 2:\n",
        "    raise ValueError('Expect 2-D input label')\n",
        "\n",
        "  colormap = create_pascal_label_colormap_1()\n",
        "\n",
        "  if np.max(label) >= len(colormap):\n",
        "    raise ValueError('label value too large.')\n",
        "\n",
        "  return colormap[label]\n",
        "\n",
        "\n",
        "def vis_segmentation(image, seg_map):\n",
        "  \"\"\"Visualizes input image, segmentation map and overlay view.\"\"\"\n",
        "  plt.figure(figsize=(15, 5))\n",
        "  grid_spec = gridspec.GridSpec(1, 4, width_ratios=[6, 6, 6, 1])\n",
        "\n",
        "  plt.subplot(grid_spec[0])\n",
        "  plt.imshow(image)\n",
        "  plt.axis('off')\n",
        "  plt.title('input image')\n",
        "\n",
        "  plt.subplot(grid_spec[1])\n",
        "  seg_image = label_to_color_image(seg_map).astype(np.uint8)\n",
        "  plt.imshow(seg_image)\n",
        "  plt.axis('off')\n",
        "  plt.title('segmentation map')\n",
        "\n",
        "  plt.subplot(grid_spec[2])\n",
        "  plt.imshow(image)\n",
        "  plt.imshow(seg_image, alpha=0.7)\n",
        "  plt.axis('off')\n",
        "  plt.title('segmentation overlay')\n",
        "\n",
        "  unique_labels = np.unique(seg_map)\n",
        "  ax = plt.subplot(grid_spec[3])\n",
        "  plt.imshow(\n",
        "      FULL_COLOR_MAP[unique_labels].astype(np.uint8), interpolation='nearest')\n",
        "  ax.yaxis.tick_right()\n",
        "  plt.yticks(range(len(unique_labels)), LABEL_NAMES[unique_labels])\n",
        "  plt.xticks([], [])\n",
        "  ax.tick_params(width=0.0)\n",
        "  plt.grid('off')\n",
        "  plt.show()\n",
        "\n",
        "\n",
        "LABEL_NAMES = np.asarray([\n",
        "    'background', 'aeroplane', 'bicycle', 'bird', 'boat', 'bottle', 'bus',\n",
        "    'car', 'cat', 'chair', 'cow', 'diningtable', 'dog', 'horse', 'motorbike',\n",
        "    'person', 'pottedplant', 'sheep', 'sofa', 'train', 'tv'\n",
        "])\n",
        "\n",
        "FULL_LABEL_MAP = np.arange(len(LABEL_NAMES)).reshape(len(LABEL_NAMES), 1)\n",
        "FULL_COLOR_MAP = label_to_color_image(FULL_LABEL_MAP)"
      ],
      "execution_count": 0,
      "outputs": []
    },
    {
      "metadata": {
        "id": "AUduGBOYdBtT",
        "colab_type": "code",
        "outputId": "31bc9fb4-4ec3-44eb-db57-86bf53003239",
        "colab": {
          "base_uri": "https://localhost:8080/",
          "height": 35
        }
      },
      "cell_type": "code",
      "source": [
        "from google.colab import drive\n",
        "drive.mount('/content/drive/')"
      ],
      "execution_count": 0,
      "outputs": [
        {
          "output_type": "stream",
          "text": [
            "Mounted at /content/drive/\n"
          ],
          "name": "stdout"
        }
      ]
    },
    {
      "metadata": {
        "id": "Mcx5gBHbdkVE",
        "colab_type": "code",
        "outputId": "8af866b5-6947-438a-cb6a-1038644aeab8",
        "colab": {
          "base_uri": "https://localhost:8080/",
          "height": 52
        }
      },
      "cell_type": "code",
      "source": [
        "#!ln -sf /opt/bin/nvidia-smi /usr/bin/nvidia-smi\n",
        "#!pip install gputil\n",
        "#!pip install psutil\n",
        "#!pip install humanize\n",
        "import psutil\n",
        "import humanize\n",
        "import os\n",
        "import GPUtil as GPU\n",
        "GPUs = GPU.getGPUs()\n",
        "# XXX: only one GPU on Colab and isn’t guaranteed\n",
        "gpu = GPUs[0]\n",
        "def printm():\n",
        " process = psutil.Process(os.getpid())\n",
        " print(\"Gen RAM Free: \" + humanize.naturalsize( psutil.virtual_memory().available ), \" | Proc size: \" + humanize.naturalsize( process.memory_info().rss))\n",
        " print(\"GPU RAM Free: {0:.0f}MB | Used: {1:.0f}MB | Util {2:3.0f}% | Total {3:.0f}MB\".format(gpu.memoryFree, gpu.memoryUsed, gpu.memoryUtil*100, gpu.memoryTotal))\n",
        "printm()"
      ],
      "execution_count": 0,
      "outputs": [
        {
          "output_type": "stream",
          "text": [
            "Gen RAM Free: 12.6 GB  | Proc size: 303.6 MB\n",
            "GPU RAM Free: 11441MB | Used: 0MB | Util   0% | Total 11441MB\n"
          ],
          "name": "stdout"
        }
      ]
    },
    {
      "metadata": {
        "id": "KVsxTA_odFuC",
        "colab_type": "code",
        "colab": {}
      },
      "cell_type": "code",
      "source": [
        "tarball_path = \"/content/drive/My Drive/comma_challenge/models/deeplabv3_pascal_trainval_2018_01_04.tar.gz\"\n",
        "dlmodel = DeepLabModel(tarball_path)\n",
        "os.chdir(\"/content/drive/My Drive/comma_challenge/\")"
      ],
      "execution_count": 0,
      "outputs": []
    },
    {
      "metadata": {
        "id": "UbuayKHElHpM",
        "colab_type": "code",
        "colab": {}
      },
      "cell_type": "code",
      "source": [
        "def draw_hsv(flow):\n",
        "    h, w = flow.shape[:2]\n",
        "    fx, fy = flow[:,:,0], flow[:,:,1]\n",
        "    ang = np.arctan2(fy, fx) + np.pi\n",
        "    v = np.sqrt(fx*fx+fy*fy)\n",
        "    hsv = np.zeros((h, w, 3), np.uint8)\n",
        "    hsv[...,0] = ang*(180/np.pi/2)\n",
        "    hsv[...,1] = 255\n",
        "    hsv[...,2] = np.minimum(v*4, 255)\n",
        "    bgr = cv2.cvtColor(hsv, cv2.COLOR_HSV2BGR)\n",
        "    return bgr"
      ],
      "execution_count": 0,
      "outputs": []
    },
    {
      "metadata": {
        "id": "hkwSsV_CjE6e",
        "colab_type": "code",
        "colab": {}
      },
      "cell_type": "code",
      "source": [
        "import os\n",
        "import cv2\n",
        "import numpy as np\n",
        "from matplotlib import pyplot as plt\n",
        "newWidth, newHeight = 220, 74\n",
        "top = 0\n",
        "bottom = 370\n",
        "left = 0\n",
        "right = 640\n",
        "\n",
        "#paths to video to be used and the directory to store the optical flow images\n",
        "#currently set to test video\n",
        "path_to_vid = \"/content/drive/My Drive/comma_challenge/data/test.mp4\"\n",
        "path_to_flow = \"/content/drive/My Drive/comma_challenge/data/flow_imgs_test_cars\"\n",
        "\n",
        "cap = cv2.VideoCapture(path_to_vid)\n",
        "ret, frame1 = cap.read()\n",
        "ret, frame2 = cap.read()\n",
        "\n",
        "\n",
        "prvs = cv2.cvtColor(frame1[top:bottom, left:right], cv2.COLOR_BGR2RGB)\n",
        "prvs, prvs_seg = dlmodel.run(Image.fromarray(prvs.astype('uint8'), 'RGB'))\n",
        "prvs_seg_img = label_to_color_image(prvs_seg)\n",
        "prvs = np.array(prvs)\n",
        "prvs = cv2.cvtColor(prvs,cv2.COLOR_RGB2GRAY)\n",
        "\n",
        "\n",
        "curr = cv2.cvtColor(frame2[top:bottom, left:right], cv2.COLOR_BGR2RGB)\n",
        "curr, curr_seg = dlmodel.run(Image.fromarray(curr.astype('uint8'), 'RGB'))\n",
        "curr_seg_img = label_to_color_image(curr_seg)\n",
        "curr = np.array(curr)\n",
        "curr = cv2.cvtColor(curr,cv2.COLOR_RGB2GRAY)\n",
        "\n",
        "i = 2"
      ],
      "execution_count": 0,
      "outputs": []
    },
    {
      "metadata": {
        "id": "CvhdIqcaOXtj",
        "colab_type": "code",
        "colab": {}
      },
      "cell_type": "code",
      "source": [
        "while(1):\n",
        "    ret, frame3 = cap.read()\n",
        "    if(not ret):\n",
        "        break\n",
        "    \n",
        "    next_ = cv2.cvtColor(frame3[top:bottom, left:right], cv2.COLOR_BGR2RGB)\n",
        "    next_, next_seg = dlmodel.run(Image.fromarray(next_.astype('uint8'), 'RGB'))\n",
        "    next_seg_img = label_to_color_image(next_seg)\n",
        "    next_ = np.array(next_)\n",
        "    next_ = cv2.cvtColor(next_,cv2.COLOR_RGB2GRAY)\n",
        "    \n",
        "    flow = cv2.calcOpticalFlowFarneback(prvs,next_, None, 0.5, 3, 15, 3, 5, 1.2, 0)\n",
        "    \n",
        "    hsv2 = draw_hsv(flow)\n",
        "    hsv2 = hsv2 * curr_seg_img\n",
        "    hsv2 = cv2.resize(hsv2.astype('float32'), (newWidth, newHeight), interpolation=cv2.INTER_AREA)\n",
        "    \n",
        "    name = \"\"\n",
        "    if i < 10:\n",
        "        name = \"0000\"\n",
        "    elif i < 100:\n",
        "        name = \"000\"\n",
        "    elif i < 1000:\n",
        "        name = \"00\"\n",
        "    elif i < 10000:\n",
        "        name = \"0\"\n",
        "    else:\n",
        "        name = \"\"\n",
        "    \n",
        "    name += str(i)\n",
        "    cv2.imwrite(os.path.join(path_to_flow, \"hsv_\" + name + \".png\"),hsv2)\n",
        "    \n",
        "    prvs = curr\n",
        "    prvs_seg_img = curr_seg_img\n",
        "    curr = next_\n",
        "    curr_seg_img = next_seg_img\n",
        "    if(i % 100 == 0):\n",
        "      print(i)\n",
        "    i += 1\n",
        "cap.release()\n",
        "cv2.destroyAllWindows()"
      ],
      "execution_count": 0,
      "outputs": []
    },
    {
      "metadata": {
        "id": "3l7d7fN_ltDf",
        "colab_type": "code",
        "outputId": "393c222c-7d55-4871-aa0d-d4ff18a00eb4",
        "colab": {
          "base_uri": "https://localhost:8080/",
          "height": 35
        }
      },
      "cell_type": "code",
      "source": [
        "print(i)"
      ],
      "execution_count": 0,
      "outputs": [
        {
          "output_type": "stream",
          "text": [
            "10798\n"
          ],
          "name": "stdout"
        }
      ]
    },
    {
      "metadata": {
        "id": "Da-Fo_43J9rq",
        "colab_type": "code",
        "colab": {}
      },
      "cell_type": "code",
      "source": [
        "os.chdir(\"/content/drive/My Drive/comma_challenge/\")\n",
        "os.chdir(\"./data\")"
      ],
      "execution_count": 0,
      "outputs": []
    },
    {
      "metadata": {
        "id": "i8oF1_INTvpq",
        "colab_type": "code",
        "colab": {}
      },
      "cell_type": "code",
      "source": [
        "!mkdir flow_imgs_test_cars"
      ],
      "execution_count": 0,
      "outputs": []
    },
    {
      "metadata": {
        "id": "LvZQ8SdiTzeO",
        "colab_type": "code",
        "colab": {}
      },
      "cell_type": "code",
      "source": [
        ""
      ],
      "execution_count": 0,
      "outputs": []
    },
    {
      "metadata": {
        "id": "XOOytmh1T2Yv",
        "colab_type": "code",
        "outputId": "c649aaf3-c9b2-48fc-bec4-7c5b33daab25",
        "colab": {
          "base_uri": "https://localhost:8080/",
          "height": 295
        }
      },
      "cell_type": "code",
      "source": [
        ""
      ],
      "execution_count": 0,
      "outputs": [
        {
          "output_type": "stream",
          "text": [
            "checkpoints\t\t      model_with_dropout.json\n",
            "checkpoints_bothflow\t      model_with_dropout_vert.json\n",
            "checkpoints_withtest\t      model_with_dropout_withtest.json\n",
            "flow_imgs_2_hsv2_resized      test1.txt\n",
            "flow_imgs_2_hsv2_resized.tar  test_bothflow_best.txt\n",
            "flow_imgs_train_cars\t      test.mp4\n",
            "flow_test_imgs\t\t      test.txt\n",
            "flow_test_imgs.tar\t      test_vert_best.txt\n",
            "horz_flow_imgs\t\t      test_vert.txt\n",
            "horz_flow_imgs.tar\t      test_withtest_best.txt\n",
            "horz_flow_test_imgs\t      train.mp4\n",
            "horz_flow_test_imgs.tar       train.txt\n",
            "logs\t\t\t      vert_flow_imgs\n",
            "model_with_dropout_both.h5    vert_flow_imgs.tar\n",
            "model_with_dropout_both.json  vert_flow_test_imgs\n",
            "model_with_dropout.h5\t      vert_flow_test_imgs.tar\n"
          ],
          "name": "stdout"
        }
      ]
    },
    {
      "metadata": {
        "id": "Uy9RjO4kUBKH",
        "colab_type": "code",
        "colab": {}
      },
      "cell_type": "code",
      "source": [
        ""
      ],
      "execution_count": 0,
      "outputs": []
    }
  ]
}