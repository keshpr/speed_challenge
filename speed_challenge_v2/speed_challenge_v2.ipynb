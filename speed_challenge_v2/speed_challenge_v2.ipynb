{
  "nbformat": 4,
  "nbformat_minor": 0,
  "metadata": {
    "colab": {
      "name": "speed_challenge_v2.ipynb",
      "version": "0.3.2",
      "provenance": [],
      "collapsed_sections": []
    },
    "kernelspec": {
      "name": "python3",
      "display_name": "Python 3"
    },
    "accelerator": "GPU"
  },
  "cells": [
    {
      "metadata": {
        "id": "QRDziaCEWou8",
        "colab_type": "code",
        "colab": {}
      },
      "cell_type": "code",
      "source": [
        "import cv2\n",
        "import os\n",
        "import numpy as np\n",
        "from matplotlib import pyplot as plt\n",
        "import gc\n",
        "import random"
      ],
      "execution_count": 0,
      "outputs": []
    },
    {
      "metadata": {
        "id": "xrc6RUcRbfrp",
        "colab_type": "code",
        "outputId": "791b940e-8c10-47ac-c7d5-56608e8cf135",
        "colab": {
          "base_uri": "https://localhost:8080/",
          "height": 35
        }
      },
      "cell_type": "code",
      "source": [
        "import h5py\n",
        "from keras.models import Sequential\n",
        "from keras.layers import Dense, Conv2D, Dropout, Flatten\n",
        "from keras.optimizers import Adam\n",
        "from keras.losses import mean_squared_error as MSE\n",
        "from keras.callbacks import ModelCheckpoint, TensorBoard\n",
        "from sklearn.model_selection import train_test_split\n",
        "\n"
      ],
      "execution_count": 0,
      "outputs": [
        {
          "output_type": "stream",
          "text": [
            "Using TensorFlow backend.\n"
          ],
          "name": "stderr"
        }
      ]
    },
    {
      "metadata": {
        "id": "dhxEkJKWe5gu",
        "colab_type": "code",
        "outputId": "b4db16c3-221b-4a7d-97df-167924745835",
        "colab": {
          "base_uri": "https://localhost:8080/",
          "height": 124
        }
      },
      "cell_type": "code",
      "source": [
        "from google.colab import drive\n",
        "drive.mount('/content/drive/')"
      ],
      "execution_count": 0,
      "outputs": [
        {
          "output_type": "stream",
          "text": [
            "Go to this URL in a browser: https://accounts.google.com/o/oauth2/auth?client_id=947318989803-6bn6qk8qdgf4n4g3pfee6491hc0brc4i.apps.googleusercontent.com&redirect_uri=urn%3Aietf%3Awg%3Aoauth%3A2.0%3Aoob&scope=email%20https%3A%2F%2Fwww.googleapis.com%2Fauth%2Fdocs.test%20https%3A%2F%2Fwww.googleapis.com%2Fauth%2Fdrive%20https%3A%2F%2Fwww.googleapis.com%2Fauth%2Fdrive.photos.readonly%20https%3A%2F%2Fwww.googleapis.com%2Fauth%2Fpeopleapi.readonly&response_type=code\n",
            "\n",
            "Enter your authorization code:\n",
            "··········\n",
            "Mounted at /content/drive/\n"
          ],
          "name": "stdout"
        }
      ]
    },
    {
      "metadata": {
        "id": "OnhkAQ1P-6rx",
        "colab_type": "code",
        "colab": {}
      },
      "cell_type": "code",
      "source": [
        "os.chdir(\"/content/drive/My Drive/comma_challenge/\")\n",
        "os.chdir(\"./data\")\n"
      ],
      "execution_count": 0,
      "outputs": []
    },
    {
      "metadata": {
        "id": "ODOsNoMYiNyv",
        "colab_type": "code",
        "colab": {}
      },
      "cell_type": "code",
      "source": [
        "#helper code to check RAM and GPU resources\n",
        "\n",
        "#!ln -sf /opt/bin/nvidia-smi /usr/bin/nvidia-smi\n",
        "#!pip install gputil\n",
        "#!pip install psutil\n",
        "#!pip install humanize\n",
        "import psutil\n",
        "import humanize\n",
        "import os\n",
        "import GPUtil as GPU\n",
        "GPUs = GPU.getGPUs()\n",
        "# XXX: only one GPU on Colab and isn’t guaranteed\n",
        "gpu = GPUs[0]\n",
        "def printm():\n",
        " process = psutil.Process(os.getpid())\n",
        " print(\"Gen RAM Free: \" + humanize.naturalsize( psutil.virtual_memory().available ), \" | Proc size: \" + humanize.naturalsize( process.memory_info().rss))\n",
        " print(\"GPU RAM Free: {0:.0f}MB | Used: {1:.0f}MB | Util {2:3.0f}% | Total {3:.0f}MB\".format(gpu.memoryFree, gpu.memoryUsed, gpu.memoryUtil*100, gpu.memoryTotal))\n",
        "printm()"
      ],
      "execution_count": 0,
      "outputs": []
    },
    {
      "metadata": {
        "id": "nTfNzaSciqQX",
        "colab_type": "code",
        "outputId": "051c81c4-45dc-40ab-d792-2f96c9e86cfb",
        "colab": {
          "base_uri": "https://localhost:8080/",
          "height": 52
        }
      },
      "cell_type": "code",
      "source": [
        "path_to_imgs = \"/content/drive/My Drive/comma_challenge/data/flow_imgs_train_cars/\"\n",
        "path_to_test_imgs = \"/content/drive/My Drive/comma_challenge/data/flow_imgs_test_cars/\"\n",
        "path_to_trainY = \"/content/drive/My Drive/comma_challenge/data/train.txt\"\n",
        "file_paths = sorted([os.path.join(path_to_imgs,f) for f in os.listdir(path_to_imgs)])\n",
        "file_paths_test = sorted([os.path.join(path_to_test_imgs,f) for f in os.listdir(path_to_test_imgs)])\n",
        "\n",
        "trainYs = []\n",
        "\n",
        "with open(path_to_trainY, \"r\") as train_file:\n",
        "  trainYs = train_file.read().splitlines()\n",
        "\n",
        "trainYs = [float(line) for line in trainYs]\n",
        "\n",
        "trainYs = np.asarray(trainYs[1:-1])\n",
        "(train_files, test_files, trainY, testY) = train_test_split(file_paths,\n",
        "\ttrainYs, test_size=0.20, random_state=42)\n",
        "\n",
        "print(len(train_files))\n",
        "print(len(test_files))\n"
      ],
      "execution_count": 0,
      "outputs": [
        {
          "output_type": "stream",
          "text": [
            "16318\n",
            "4080\n"
          ],
          "name": "stdout"
        }
      ]
    },
    {
      "metadata": {
        "id": "tFOBzJGCJEvB",
        "colab_type": "code",
        "outputId": "4a0e6ab5-e36e-49fb-8fbe-3abd1049168a",
        "colab": {
          "base_uri": "https://localhost:8080/",
          "height": 52
        }
      },
      "cell_type": "code",
      "source": [
        "#adding frames from test images where the car is stopped (540 frames)\n",
        "train_files.extend(file_paths_test[1098:1638])\n",
        "trainY = np.concatenate((trainY, np.zeros([540])))\n",
        "print(len(train_files))\n",
        "print(len(trainY))\n"
      ],
      "execution_count": 0,
      "outputs": [
        {
          "output_type": "stream",
          "text": [
            "16858\n",
            "16858\n"
          ],
          "name": "stdout"
        }
      ]
    },
    {
      "metadata": {
        "id": "UX6slhrJlXOu",
        "colab_type": "code",
        "colab": {}
      },
      "cell_type": "code",
      "source": [
        "trainX = np.zeros([len(train_files), 74,220, 3])\n",
        "testX = np.zeros([len(test_files), 74,220,3])\n"
      ],
      "execution_count": 0,
      "outputs": []
    },
    {
      "metadata": {
        "id": "Y-PPNhITUpH9",
        "colab_type": "code",
        "colab": {}
      },
      "cell_type": "code",
      "source": [
        "def draw_hsv(flow):\n",
        "    h, w = flow.shape[:2]\n",
        "    fx, fy = flow[:,:,0], flow[:,:,1]\n",
        "    ang = np.arctan2(fy, fx) + np.pi\n",
        "    v = np.sqrt(fx*fx+fy*fy)\n",
        "    hsv = np.zeros((h, w, 3), np.uint8)\n",
        "    hsv[...,0] = ang*(180/np.pi/2)\n",
        "    hsv[...,1] = 255\n",
        "    hsv[...,2] = np.minimum(v*4, 255)\n",
        "    bgr = cv2.cvtColor(hsv, cv2.COLOR_HSV2BGR)\n",
        "    return bgr"
      ],
      "execution_count": 0,
      "outputs": []
    },
    {
      "metadata": {
        "id": "4Ol3Zp0UE0yS",
        "colab_type": "code",
        "outputId": "a92d6793-b2fe-4977-ac18-64d10a41cce8",
        "colab": {
          "base_uri": "https://localhost:8080/",
          "height": 329
        }
      },
      "cell_type": "code",
      "source": [
        "!ls"
      ],
      "execution_count": 0,
      "outputs": [
        {
          "output_type": "stream",
          "text": [
            "checkpoints\t\t      model_with_dropout.json\n",
            "checkpoints_bothflow\t      model_with_dropout_vert.json\n",
            "checkpoints_withtest\t      model_with_dropout_withtest_cars.json\n",
            "checkpoints_withtest_cars     model_with_dropout_withtest.json\n",
            "flow_imgs_2_hsv2_resized      test1.txt\n",
            "flow_imgs_2_hsv2_resized.tar  test_bothflow_best.txt\n",
            "flow_imgs_test_cars\t      test.mp4\n",
            "flow_imgs_train_cars\t      test.txt\n",
            "flow_test_imgs\t\t      test_vert_best.txt\n",
            "flow_test_imgs.tar\t      test_vert.txt\n",
            "horz_flow_imgs\t\t      test_withtest_best.txt\n",
            "horz_flow_imgs.tar\t      train.mp4\n",
            "horz_flow_test_imgs\t      train.txt\n",
            "horz_flow_test_imgs.tar       vert_flow_imgs\n",
            "logs\t\t\t      vert_flow_imgs.tar\n",
            "model_with_dropout_both.h5    vert_flow_test_imgs\n",
            "model_with_dropout_both.json  vert_flow_test_imgs.tar\n",
            "model_with_dropout.h5\n"
          ],
          "name": "stdout"
        }
      ]
    },
    {
      "metadata": {
        "id": "pj6CBRy2rVBn",
        "colab_type": "code",
        "colab": {}
      },
      "cell_type": "code",
      "source": [
        "i = 0\n",
        "for file in train_files:\n",
        "  trainX[i] = cv2.imread(file, cv2.IMREAD_COLOR)\n",
        "  if(i % 100 == 0):\n",
        "    print(i)\n",
        "  i += 1\n",
        "print(i)\n",
        "i = 0\n",
        "for file in test_files:\n",
        "  testX[i] = cv2.imread(file, cv2.IMREAD_COLOR)\n",
        "  if(i % 100 == 0):\n",
        "    print(i)\n",
        "  i += 1\n",
        "print(i)"
      ],
      "execution_count": 0,
      "outputs": []
    },
    {
      "metadata": {
        "id": "Qj2rW3gUtvl1",
        "colab_type": "code",
        "colab": {}
      },
      "cell_type": "code",
      "source": [
        "os.chdir(\"/content/drive/My Drive/comma_challenge/\")\n",
        "os.chdir(\"./data\")\n",
        "!mkdir checkpoints_withtest_cars"
      ],
      "execution_count": 0,
      "outputs": []
    },
    {
      "metadata": {
        "id": "WhXiCazFv_pK",
        "colab_type": "code",
        "colab": {}
      },
      "cell_type": "code",
      "source": [
        "# helper code to save large files in Google drive\n",
        "# Which file to send?\n",
        "file_name = \"LARGE_FILE\"\n",
        "\n",
        "from google.colab import auth\n",
        "from googleapiclient.http import MediaFileUpload\n",
        "from googleapiclient.discovery import build\n",
        "\n",
        "auth.authenticate_user()\n",
        "drive_service = build('drive', 'v3')\n",
        "\n",
        "def save_file_to_drive(name, path):\n",
        "  file_metadata = {'name': name, 'mimeType': 'application/octet-stream'}\n",
        "  media = MediaFileUpload(path, mimetype='application/octet-stream', resumable=True)\n",
        "  created = drive_service.files().create(body=file_metadata, media_body=media, fields='id').execute()\n",
        "  \n",
        "  return created\n",
        "\n",
        "save_file_to_drive(file_name, file_name)"
      ],
      "execution_count": 0,
      "outputs": []
    },
    {
      "metadata": {
        "id": "Ve_y3zPnzHYk",
        "colab_type": "code",
        "colab": {}
      },
      "cell_type": "code",
      "source": [
        "trainX /= 255.0\n",
        "testX /= 255.0\n"
      ],
      "execution_count": 0,
      "outputs": []
    },
    {
      "metadata": {
        "id": "HwLzHRaD_glC",
        "colab_type": "code",
        "colab": {}
      },
      "cell_type": "code",
      "source": [
        ""
      ],
      "execution_count": 0,
      "outputs": []
    },
    {
      "metadata": {
        "id": "9ZPCD6Yq1347",
        "colab_type": "code",
        "outputId": "2b483f13-c56b-4bbe-e1aa-60b320be172b",
        "colab": {
          "base_uri": "https://localhost:8080/",
          "height": 121
        }
      },
      "cell_type": "code",
      "source": [
        "# output was gotten (i.e, this cell was run) after model was trained and checkpoints were created\n",
        "!ls ./checkpoints_withtest_cars/"
      ],
      "execution_count": 0,
      "outputs": [
        {
          "output_type": "stream",
          "text": [
            "weights-improvement-01-6.98.hdf5  weights-improvement-09-0.91.hdf5\n",
            "weights-improvement-02-2.97.hdf5  weights-improvement-12-0.85.hdf5\n",
            "weights-improvement-03-2.32.hdf5  weights-improvement-14-0.65.hdf5\n",
            "weights-improvement-04-1.95.hdf5  weights-improvement-16-0.59.hdf5\n",
            "weights-improvement-06-1.43.hdf5  weights-improvement-17-0.52.hdf5\n",
            "weights-improvement-07-1.15.hdf5  weights-improvement-21-0.36.hdf5\n"
          ],
          "name": "stdout"
        }
      ]
    },
    {
      "metadata": {
        "id": "UL0VJUYaYH_s",
        "colab_type": "code",
        "colab": {}
      },
      "cell_type": "code",
      "source": [
        "#Model hyperparameters\n",
        "\n",
        "NUM_EPOCHS=25\n",
        "opt='adam'\n",
        "los='mse'\n",
        "minibatch_size=32"
      ],
      "execution_count": 0,
      "outputs": []
    },
    {
      "metadata": {
        "id": "OUmBzOQGanwM",
        "colab_type": "code",
        "colab": {}
      },
      "cell_type": "code",
      "source": [
        "#model architecture\n",
        "\n",
        "model = Sequential()\n",
        "model.add(Conv2D(24, (5,5), activation='relu', strides=2, data_format='channels_last', input_shape=(74,220,3)))\n",
        "model.add(Conv2D(36, (5,5), activation='relu', strides=2, data_format='channels_last'))\n",
        "model.add(Dropout(0.5))\n",
        "model.add(Conv2D(48, (5,5), activation='relu', strides=2, data_format='channels_last'))\n",
        "model.add(Dropout(0.5))\n",
        "model.add(Conv2D(64, (3,3), activation='relu', data_format='channels_last'))\n",
        "model.add(Conv2D(64, (3,3), activation='relu', data_format='channels_last'))\n",
        "model.add(Flatten())\n",
        "model.add(Dense(100, activation='relu'))\n",
        "model.add(Dense(50, activation='relu'))\n",
        "model.add(Dense(10, activation='relu'))\n",
        "model.add(Dense(1))\n"
      ],
      "execution_count": 0,
      "outputs": []
    },
    {
      "metadata": {
        "id": "l2kEuzXaOhh6",
        "colab_type": "code",
        "colab": {}
      },
      "cell_type": "code",
      "source": [
        "checkpoint_path = \"/content/drive/My Drive/comma_challenge/data/checkpoints_withtest_cars/weights-improvement-{epoch:02d}-{val_loss:.2f}.hdf5\"\n",
        "model_path = \"/content/drive/My Drive/comma_challenge/data/model_with_dropout_withtest_cars.json\"\n",
        "log_path=\"/content/drive/My Drive/comma_challenge/logs\"\n",
        "os.chdir(\"/content/drive/My Drive/comma_challenge/data/\")"
      ],
      "execution_count": 0,
      "outputs": []
    },
    {
      "metadata": {
        "id": "EP404c2ZZ9Bz",
        "colab_type": "code",
        "colab": {}
      },
      "cell_type": "code",
      "source": [
        ""
      ],
      "execution_count": 0,
      "outputs": []
    },
    {
      "metadata": {
        "id": "sQ5SesSja5f3",
        "colab_type": "code",
        "outputId": "308d7494-ba43-4c10-db40-5b9a7ecd35bd",
        "colab": {
          "base_uri": "https://localhost:8080/",
          "height": 277
        }
      },
      "cell_type": "code",
      "source": [
        "!ls"
      ],
      "execution_count": 0,
      "outputs": [
        {
          "output_type": "stream",
          "text": [
            "checkpoints\t\t      model_with_dropout.json\n",
            "checkpoints_bothflow\t      model_with_dropout_vert.json\n",
            "checkpoints_withtest\t      model_with_dropout_withtest.json\n",
            "flow_imgs_2_hsv2_resized      test1.txt\n",
            "flow_imgs_2_hsv2_resized.tar  test_bothflow_best.txt\n",
            "flow_test_imgs\t\t      test.mp4\n",
            "flow_test_imgs.tar\t      test.txt\n",
            "horz_flow_imgs\t\t      test_vert_best.txt\n",
            "horz_flow_imgs.tar\t      test_vert.txt\n",
            "horz_flow_test_imgs\t      train.mp4\n",
            "horz_flow_test_imgs.tar       train.txt\n",
            "logs\t\t\t      vert_flow_imgs\n",
            "model_with_dropout_both.h5    vert_flow_imgs.tar\n",
            "model_with_dropout_both.json  vert_flow_test_imgs\n",
            "model_with_dropout.h5\t      vert_flow_test_imgs.tar\n"
          ],
          "name": "stdout"
        }
      ]
    },
    {
      "metadata": {
        "id": "4T0pP9FUc2QP",
        "colab_type": "code",
        "colab": {}
      },
      "cell_type": "code",
      "source": [
        ""
      ],
      "execution_count": 0,
      "outputs": []
    },
    {
      "metadata": {
        "id": "qCFSacuMUIeD",
        "colab_type": "code",
        "colab": {}
      },
      "cell_type": "code",
      "source": [
        "adam = Adam(lr=1e-4, beta_1=1, beta_2=0.999, epsilon=1e-08, decay=0.0)\n",
        "model.compile(optimizer=\"adam\", loss=los, metrics=['mse', 'acc'])\n",
        "checkpt = ModelCheckpoint(checkpoint_path, monitor='val_loss', verbose=1, save_best_only=True, mode='min', period=1)\n",
        "tboard = TensorBoard(log_dir=log_path, write_graph=False)\n",
        "callbacks_list = [checkpt]\n"
      ],
      "execution_count": 0,
      "outputs": []
    },
    {
      "metadata": {
        "id": "XoZntmNOHKEt",
        "colab_type": "code",
        "outputId": "8148a831-6979-45b4-e96a-324df297da19",
        "colab": {
          "base_uri": "https://localhost:8080/",
          "height": 1805
        }
      },
      "cell_type": "code",
      "source": [
        "model.fit(trainX, trainY, validation_data=(testX, testY), epochs=NUM_EPOCHS, batch_size=minibatch_size, callbacks=callbacks_list)"
      ],
      "execution_count": 0,
      "outputs": [
        {
          "output_type": "stream",
          "text": [
            "Train on 16858 samples, validate on 4080 samples\n",
            "Epoch 1/25\n",
            "16858/16858 [==============================] - 20s 1ms/step - loss: 20.9140 - mean_squared_error: 20.9140 - acc: 0.0098 - val_loss: 6.9837 - val_mean_squared_error: 6.9837 - val_acc: 0.0333\n",
            "\n",
            "Epoch 00001: val_loss improved from inf to 6.98372, saving model to /content/drive/My Drive/comma_challenge/data/checkpoints_withtest_cars/weights-improvement-01-6.98.hdf5\n",
            "Epoch 2/25\n",
            "16858/16858 [==============================] - 15s 902us/step - loss: 4.5781 - mean_squared_error: 4.5781 - acc: 0.0422 - val_loss: 2.9682 - val_mean_squared_error: 2.9682 - val_acc: 0.0348\n",
            "\n",
            "Epoch 00002: val_loss improved from 6.98372 to 2.96815, saving model to /content/drive/My Drive/comma_challenge/data/checkpoints_withtest_cars/weights-improvement-02-2.97.hdf5\n",
            "Epoch 3/25\n",
            "16858/16858 [==============================] - 15s 887us/step - loss: 2.8951 - mean_squared_error: 2.8951 - acc: 0.0503 - val_loss: 2.3235 - val_mean_squared_error: 2.3235 - val_acc: 0.0316\n",
            "\n",
            "Epoch 00003: val_loss improved from 2.96815 to 2.32349, saving model to /content/drive/My Drive/comma_challenge/data/checkpoints_withtest_cars/weights-improvement-03-2.32.hdf5\n",
            "Epoch 4/25\n",
            "16858/16858 [==============================] - 15s 895us/step - loss: 2.4185 - mean_squared_error: 2.4185 - acc: 0.0529 - val_loss: 1.9486 - val_mean_squared_error: 1.9486 - val_acc: 0.0311\n",
            "\n",
            "Epoch 00004: val_loss improved from 2.32349 to 1.94859, saving model to /content/drive/My Drive/comma_challenge/data/checkpoints_withtest_cars/weights-improvement-04-1.95.hdf5\n",
            "Epoch 5/25\n",
            "16858/16858 [==============================] - 15s 894us/step - loss: 2.2078 - mean_squared_error: 2.2078 - acc: 0.0533 - val_loss: 3.3870 - val_mean_squared_error: 3.3870 - val_acc: 0.0343\n",
            "\n",
            "Epoch 00005: val_loss did not improve from 1.94859\n",
            "Epoch 6/25\n",
            "16858/16858 [==============================] - 15s 894us/step - loss: 1.6823 - mean_squared_error: 1.6823 - acc: 0.0583 - val_loss: 1.4342 - val_mean_squared_error: 1.4342 - val_acc: 0.0343\n",
            "\n",
            "Epoch 00006: val_loss improved from 1.94859 to 1.43420, saving model to /content/drive/My Drive/comma_challenge/data/checkpoints_withtest_cars/weights-improvement-06-1.43.hdf5\n",
            "Epoch 7/25\n",
            "16858/16858 [==============================] - 15s 896us/step - loss: 1.5473 - mean_squared_error: 1.5473 - acc: 0.0588 - val_loss: 1.1451 - val_mean_squared_error: 1.1451 - val_acc: 0.0343\n",
            "\n",
            "Epoch 00007: val_loss improved from 1.43420 to 1.14511, saving model to /content/drive/My Drive/comma_challenge/data/checkpoints_withtest_cars/weights-improvement-07-1.15.hdf5\n",
            "Epoch 8/25\n",
            "16858/16858 [==============================] - 15s 895us/step - loss: 1.3988 - mean_squared_error: 1.3988 - acc: 0.0601 - val_loss: 1.5496 - val_mean_squared_error: 1.5496 - val_acc: 0.0328\n",
            "\n",
            "Epoch 00008: val_loss did not improve from 1.14511\n",
            "Epoch 9/25\n",
            "16858/16858 [==============================] - 15s 890us/step - loss: 1.2302 - mean_squared_error: 1.2302 - acc: 0.0601 - val_loss: 0.9110 - val_mean_squared_error: 0.9110 - val_acc: 0.0321\n",
            "\n",
            "Epoch 00009: val_loss improved from 1.14511 to 0.91103, saving model to /content/drive/My Drive/comma_challenge/data/checkpoints_withtest_cars/weights-improvement-09-0.91.hdf5\n",
            "Epoch 10/25\n",
            "16858/16858 [==============================] - 15s 894us/step - loss: 1.1181 - mean_squared_error: 1.1181 - acc: 0.0590 - val_loss: 2.2887 - val_mean_squared_error: 2.2887 - val_acc: 0.0353\n",
            "\n",
            "Epoch 00010: val_loss did not improve from 0.91103\n",
            "Epoch 11/25\n",
            "16858/16858 [==============================] - 15s 891us/step - loss: 1.4728 - mean_squared_error: 1.4728 - acc: 0.0566 - val_loss: 2.1617 - val_mean_squared_error: 2.1617 - val_acc: 0.0348\n",
            "\n",
            "Epoch 00011: val_loss did not improve from 0.91103\n",
            "Epoch 12/25\n",
            "16858/16858 [==============================] - 15s 893us/step - loss: 1.1652 - mean_squared_error: 1.1652 - acc: 0.0609 - val_loss: 0.8530 - val_mean_squared_error: 0.8530 - val_acc: 0.0353\n",
            "\n",
            "Epoch 00012: val_loss improved from 0.91103 to 0.85304, saving model to /content/drive/My Drive/comma_challenge/data/checkpoints_withtest_cars/weights-improvement-12-0.85.hdf5\n",
            "Epoch 13/25\n",
            "16858/16858 [==============================] - 15s 893us/step - loss: 0.9013 - mean_squared_error: 0.9013 - acc: 0.0618 - val_loss: 1.0560 - val_mean_squared_error: 1.0560 - val_acc: 0.0353\n",
            "\n",
            "Epoch 00013: val_loss did not improve from 0.85304\n",
            "Epoch 14/25\n",
            "16858/16858 [==============================] - 15s 892us/step - loss: 1.0157 - mean_squared_error: 1.0157 - acc: 0.0607 - val_loss: 0.6523 - val_mean_squared_error: 0.6523 - val_acc: 0.0346\n",
            "\n",
            "Epoch 00014: val_loss improved from 0.85304 to 0.65226, saving model to /content/drive/My Drive/comma_challenge/data/checkpoints_withtest_cars/weights-improvement-14-0.65.hdf5\n",
            "Epoch 15/25\n",
            "16858/16858 [==============================] - 15s 890us/step - loss: 0.8473 - mean_squared_error: 0.8473 - acc: 0.0616 - val_loss: 0.7309 - val_mean_squared_error: 0.7309 - val_acc: 0.0350\n",
            "\n",
            "Epoch 00015: val_loss did not improve from 0.65226\n",
            "Epoch 16/25\n",
            "16858/16858 [==============================] - 15s 884us/step - loss: 0.7255 - mean_squared_error: 0.7255 - acc: 0.0623 - val_loss: 0.5889 - val_mean_squared_error: 0.5889 - val_acc: 0.0341\n",
            "\n",
            "Epoch 00016: val_loss improved from 0.65226 to 0.58893, saving model to /content/drive/My Drive/comma_challenge/data/checkpoints_withtest_cars/weights-improvement-16-0.59.hdf5\n",
            "Epoch 17/25\n",
            "16858/16858 [==============================] - 15s 883us/step - loss: 0.7484 - mean_squared_error: 0.7484 - acc: 0.0621 - val_loss: 0.5203 - val_mean_squared_error: 0.5203 - val_acc: 0.0348\n",
            "\n",
            "Epoch 00017: val_loss improved from 0.58893 to 0.52034, saving model to /content/drive/My Drive/comma_challenge/data/checkpoints_withtest_cars/weights-improvement-17-0.52.hdf5\n",
            "Epoch 18/25\n",
            "16858/16858 [==============================] - 15s 886us/step - loss: 0.7759 - mean_squared_error: 0.7759 - acc: 0.0610 - val_loss: 0.8765 - val_mean_squared_error: 0.8765 - val_acc: 0.0326\n",
            "\n",
            "Epoch 00018: val_loss did not improve from 0.52034\n",
            "Epoch 19/25\n",
            "16858/16858 [==============================] - 15s 882us/step - loss: 0.6397 - mean_squared_error: 0.6397 - acc: 0.0628 - val_loss: 0.6398 - val_mean_squared_error: 0.6398 - val_acc: 0.0353\n",
            "\n",
            "Epoch 00019: val_loss did not improve from 0.52034\n",
            "Epoch 20/25\n",
            "16858/16858 [==============================] - 15s 893us/step - loss: 0.6197 - mean_squared_error: 0.6197 - acc: 0.0625 - val_loss: 0.9444 - val_mean_squared_error: 0.9444 - val_acc: 0.0353\n",
            "\n",
            "Epoch 00020: val_loss did not improve from 0.52034\n",
            "Epoch 21/25\n",
            "16858/16858 [==============================] - 15s 892us/step - loss: 0.6010 - mean_squared_error: 0.6010 - acc: 0.0631 - val_loss: 0.3563 - val_mean_squared_error: 0.3563 - val_acc: 0.0353\n",
            "\n",
            "Epoch 00021: val_loss improved from 0.52034 to 0.35630, saving model to /content/drive/My Drive/comma_challenge/data/checkpoints_withtest_cars/weights-improvement-21-0.36.hdf5\n",
            "Epoch 22/25\n",
            "16858/16858 [==============================] - 15s 893us/step - loss: 0.7096 - mean_squared_error: 0.7096 - acc: 0.0619 - val_loss: 0.4107 - val_mean_squared_error: 0.4107 - val_acc: 0.0353\n",
            "\n",
            "Epoch 00022: val_loss did not improve from 0.35630\n",
            "Epoch 23/25\n",
            "16858/16858 [==============================] - 15s 888us/step - loss: 0.7458 - mean_squared_error: 0.7458 - acc: 0.0620 - val_loss: 1.2053 - val_mean_squared_error: 1.2053 - val_acc: 0.0353\n",
            "\n",
            "Epoch 00023: val_loss did not improve from 0.35630\n",
            "Epoch 24/25\n",
            "16858/16858 [==============================] - 15s 890us/step - loss: 0.6317 - mean_squared_error: 0.6317 - acc: 0.0623 - val_loss: 2.9120 - val_mean_squared_error: 2.9120 - val_acc: 0.0353\n",
            "\n",
            "Epoch 00024: val_loss did not improve from 0.35630\n",
            "Epoch 25/25\n",
            "16858/16858 [==============================] - 15s 868us/step - loss: 1.1070 - mean_squared_error: 1.1070 - acc: 0.0600 - val_loss: 1.1584 - val_mean_squared_error: 1.1584 - val_acc: 0.0353\n",
            "\n",
            "Epoch 00025: val_loss did not improve from 0.35630\n"
          ],
          "name": "stdout"
        },
        {
          "output_type": "execute_result",
          "data": {
            "text/plain": [
              "<keras.callbacks.History at 0x7f260450d2e8>"
            ]
          },
          "metadata": {
            "tags": []
          },
          "execution_count": 19
        }
      ]
    },
    {
      "metadata": {
        "id": "x5RH8e3D3T-D",
        "colab_type": "code",
        "colab": {}
      },
      "cell_type": "code",
      "source": [
        "os.chdir(\"/content/drive/My Drive/comma_challenge/data/\")\n",
        "model_json = model.to_json()\n",
        "with open(model_path, \"w\") as file:\n",
        "  file.write(model_json)"
      ],
      "execution_count": 0,
      "outputs": []
    },
    {
      "metadata": {
        "id": "idUhpgZa31SW",
        "colab_type": "code",
        "colab": {}
      },
      "cell_type": "code",
      "source": [
        ""
      ],
      "execution_count": 0,
      "outputs": []
    },
    {
      "metadata": {
        "id": "wE0o_n_uAh6A",
        "colab_type": "code",
        "outputId": "f9f083b1-4886-4d69-d092-8ba65e5282ff",
        "colab": {
          "base_uri": "https://localhost:8080/",
          "height": 35
        }
      },
      "cell_type": "code",
      "source": [
        "!ls \"./flow_imgs_test_cars\" | wc -l"
      ],
      "execution_count": 0,
      "outputs": [
        {
          "output_type": "stream",
          "text": [
            "10796\n"
          ],
          "name": "stdout"
        }
      ]
    },
    {
      "metadata": {
        "id": "OQKGZevIBfnw",
        "colab_type": "code",
        "colab": {}
      },
      "cell_type": "code",
      "source": [
        "file_paths_test = sorted([os.path.join(path_to_test_imgs,f) for f in os.listdir(path_to_test_imgs)])\n",
        "test_paths = file_paths_test\n"
      ],
      "execution_count": 0,
      "outputs": []
    },
    {
      "metadata": {
        "id": "HWr7RFTULH8P",
        "colab_type": "code",
        "outputId": "934936c9-83e6-4fc3-e5d9-e29d89dca85d",
        "colab": {
          "base_uri": "https://localhost:8080/",
          "height": 35
        }
      },
      "cell_type": "code",
      "source": [
        "from keras.models import model_from_json\n",
        "\n",
        "os.chdir(\"/content/drive/My Drive/comma_challenge/data\")\n",
        "json_file = open('model_with_dropout_withtest_cars.json', 'r')\n",
        "loaded_model_json = json_file.read()\n",
        "json_file.close()\n",
        "loaded_model = model_from_json(loaded_model_json)\n",
        "# load weights into new model\n",
        "loaded_model.load_weights(\"./checkpoints_withtest_cars/weights-improvement-21-0.36.hdf5\")\n",
        "print(\"Loaded model from disk\")\n",
        "\n",
        "loaded_model.compile(loss='mse', optimizer='adam')"
      ],
      "execution_count": 0,
      "outputs": [
        {
          "output_type": "stream",
          "text": [
            "Loaded model from disk\n"
          ],
          "name": "stdout"
        }
      ]
    },
    {
      "metadata": {
        "id": "NiJhSXp6kLZ5",
        "colab_type": "code",
        "colab": {}
      },
      "cell_type": "code",
      "source": [
        "#final test file. Changed the name to test.txt manually later\n",
        "with open(\"test_withtestcars_best.txt\", 'w') as f:\n",
        "  for file in test_paths:\n",
        "    img = cv2.imread(file, cv2.IMREAD_COLOR) / 255.0\n",
        "    img = np.reshape(img, [1, img.shape[0], img.shape[1], img.shape[2]])\n",
        "    pred = max(loaded_model.predict(img)[0,0], 0.0) \n",
        "    pred_str = str(pred)\n",
        "    f.write(pred_str + '\\n')"
      ],
      "execution_count": 0,
      "outputs": []
    },
    {
      "metadata": {
        "id": "ngPGPKeicwO4",
        "colab_type": "code",
        "colab": {}
      },
      "cell_type": "code",
      "source": [
        ""
      ],
      "execution_count": 0,
      "outputs": []
    }
  ]
}